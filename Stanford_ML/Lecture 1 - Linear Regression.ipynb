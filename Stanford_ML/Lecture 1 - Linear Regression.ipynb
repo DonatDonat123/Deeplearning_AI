{
 "cells": [
  {
   "cell_type": "markdown",
   "metadata": {},
   "source": [
    "# STANFORD ML COURSE\n",
    "\n",
    "## Lecture 1 Linear Regression\n",
    "\n",
    "### Univariate Regression\n",
    "\n",
    "Cost Function $J(\\theta_0, \\theta_1)$ tries to minimize the distance between true and predicted samples. <br>\n",
    "e.g: $J(\\theta_0, \\theta_1) = \\frac{1}{2m}\\sum_{i=1}^{m} (y_i-\\hat{y}_i)^2 =\n",
    "\\frac{1}{2m}\\sum_{i=1}^{m} (y_i-h_{\\theta} x_i)^2$ <br>\n",
    "\n",
    "**Gradient Descent** <br>\n",
    "Update: $\\theta_j = \\theta_j - \\alpha \\frac{\\partial J}{\\partial \\theta_j} J(\\theta_0, \\theta_1)$\n",
    "\n",
    "$\\frac{\\partial J}{\\partial \\theta_1} = \\frac{1}{2m}\\sum_{i=1}^{m} \\frac{\\partial}{\\partial \\theta_1} (y_i-h_{\\theta} x_i)^2 = \\frac{1}{m} \\sum_{i=1}^{m} (y_i-h_{\\theta} x_i )x_i$\n",
    "\n",
    "**Normal Equation** <br>\n",
    "This can also be solved, by setting the derivative equal to zero and solving for $\\theta$. The result is the socalled normal equation:\n",
    "\n",
    "$\\theta_{ML} = (X^TX)^{-1}X^Ty $\n",
    "\n",
    "The normal equation results by solving maximum likelihood, which is equal to minimizing the sum of squared errors.\n",
    "\n",
    "Basically it's equal to setting the gradient equal to zero and solving for $\\theta$: <br>\n",
    "$\\frac{\\partial J}{\\partial \\theta_1} = \\frac{1}{m} \\sum_{i=1}^{m} (y_i-h_{\\theta} x_i )x_i = \\frac{1}{m} \\sum_{i=1}^{m} (y_i x_i-h_{\\theta} x_i^2 )$\n",
    "\n",
    "\n",
    "\n",
    "\n",
    "**Computational Complexity** <br>\n",
    "Gradient Descent: $O(kn^2)$ <br>\n",
    "Normal Equation: $O(n^3)$\n",
    "\n",
    "### Multivariate\n",
    "\n",
    "The cost function can also be written in vectorized form (dot product instead of sum size):\n",
    "$J(\\theta) = \\frac{1}{2m}(X\\theta-\\vec{y})^T (X\\theta-\\vec{y})$"
   ]
  },
  {
   "cell_type": "code",
   "execution_count": 1,
   "metadata": {},
   "outputs": [],
   "source": [
    "import numpy as np\n",
    "import matplotlib.pyplot as plt"
   ]
  },
  {
   "cell_type": "code",
   "execution_count": 2,
   "metadata": {},
   "outputs": [],
   "source": [
    "# Let's create fake data:\n",
    "f = lambda x: 2*x -2 \n",
    "x = np.arange(-5,5, 0.5)\n",
    "y = f(x) + 4*np.random.rand(len(x))"
   ]
  },
  {
   "cell_type": "code",
   "execution_count": 3,
   "metadata": {},
   "outputs": [
    {
     "data": {
      "text/plain": [
       "[<matplotlib.lines.Line2D at 0x10d966160>]"
      ]
     },
     "execution_count": 3,
     "metadata": {},
     "output_type": "execute_result"
    },
    {
     "data": {
      "image/png": "[encoded data removed]",
      "text/plain": [
       "<Figure size 432x288 with 1 Axes>"
      ]
     },
     "metadata": {},
     "output_type": "display_data"
    }
   ],
   "source": [
    "fig, ax = plt.subplots(nrows=1, ncols=1)\n",
    "ax.plot(x,y,'.')"
   ]
  },
  {
   "cell_type": "code",
   "execution_count": 4,
   "metadata": {},
   "outputs": [],
   "source": [
    "xx = [np.ones(len(x)),x]"
   ]
  },
  {
   "cell_type": "code",
   "execution_count": 5,
   "metadata": {},
   "outputs": [],
   "source": [
    "def cost_function(w0, w1, xx, y):\n",
    "    m = len(y)\n",
    "    w = np.matrix([w0,w1])\n",
    "    x = np.matrix(xx)\n",
    "    y_hat = np.dot(w,x)\n",
    "    diff = np.sum(np.power(y_hat-y,2))/(2*m)\n",
    "    return diff\n",
    "\n",
    "def updater(w0, w1, xx, y, alpha):\n",
    "    m = len(y)\n",
    "    w = np.matrix([w0,w1])\n",
    "    x = np.matrix(xx)\n",
    "    y_hat = np.dot(w,x)\n",
    "    update0 = np.sum(y_hat-y)/m\n",
    "    update1 = np.sum(x[:,1]*(y_hat-y))/m\n",
    "    #print(\"up0: {}; up1: {}\".format(update0,update1))\n",
    "    w0_new = w0 - alpha*update0\n",
    "    w1_new = w1 - alpha*update1\n",
    "    return w0_new, w1_new"
   ]
  },
  {
   "cell_type": "code",
   "execution_count": 6,
   "metadata": {},
   "outputs": [
    {
     "name": "stdout",
     "output_type": "stream",
     "text": [
      "13.135292253420698\n",
      "cost: 12.467804841007633, w1: 0.486834280670286, w1:0.2460800176539989\n",
      "cost: 1.242676432748681, w1: -0.09837346337328508, w1:2.2943071218065\n",
      "cost: 2.678482166741837, w1: -0.18653457139796853, w1:2.6028709998928945\n",
      "cost: 2.9657499932672677, w1: -0.19981597624479358, w1:2.649355916856783\n",
      "cost: 3.010637235410811, w1: -0.20181680993050333, w1:2.6563588347567646\n",
      "cost: 3.017436016758601, w1: -0.20211823402562265, w1:2.657413819089684\n",
      "cost: 3.018461077626895, w1: -0.20216364333963413, w1:2.657572751688723\n",
      "cost: 3.018615521105307, w1: -0.2021704842187555, w1:2.6575966947656475\n",
      "cost: 3.018638788326861, w1: -0.2021715147920678, w1:2.657600301772242\n",
      "cost: 3.0186422935260495, w1: -0.20217167004716477, w1:2.6576008451650823\n"
     ]
    }
   ],
   "source": [
    "w0 = 0.5\n",
    "w1 = 0.2\n",
    "print (cost_function(w0,w1, xx, y))\n",
    "for i in range(1000):\n",
    "    w0, w1 = updater(w0,w1, xx, y, 0.01)\n",
    "    if i%100 == 0:\n",
    "        print (\"cost: {}, w1: {}, w1:{}\".format(cost_function(w0,w1, xx, y), w0, w1))\n",
    "diff = cost_function(w0,w1, xx, y)"
   ]
  },
  {
   "cell_type": "code",
   "execution_count": 58,
   "metadata": {},
   "outputs": [
    {
     "ename": "ValueError",
     "evalue": "x and y must have same first dimension, but have shapes (20,) and (47,)",
     "output_type": "error",
     "traceback": [
      "\u001b[0;31m---------------------------------------------------------------------------\u001b[0m",
      "\u001b[0;31mValueError\u001b[0m                                Traceback (most recent call last)",
      "\u001b[0;32m<ipython-input-58-e2de9e9ee9ab>\u001b[0m in \u001b[0;36m<module>\u001b[0;34m()\u001b[0m\n\u001b[1;32m      2\u001b[0m \u001b[0my_pred\u001b[0m \u001b[0;34m=\u001b[0m \u001b[0my_hat\u001b[0m\u001b[0;34m(\u001b[0m\u001b[0mx\u001b[0m\u001b[0;34m)\u001b[0m\u001b[0;34m\u001b[0m\u001b[0m\n\u001b[1;32m      3\u001b[0m \u001b[0mfig\u001b[0m\u001b[0;34m,\u001b[0m \u001b[0max\u001b[0m \u001b[0;34m=\u001b[0m \u001b[0mplt\u001b[0m\u001b[0;34m.\u001b[0m\u001b[0msubplots\u001b[0m\u001b[0;34m(\u001b[0m\u001b[0mnrows\u001b[0m\u001b[0;34m=\u001b[0m\u001b[0;36m1\u001b[0m\u001b[0;34m,\u001b[0m \u001b[0mncols\u001b[0m\u001b[0;34m=\u001b[0m\u001b[0;36m1\u001b[0m\u001b[0;34m)\u001b[0m\u001b[0;34m\u001b[0m\u001b[0m\n\u001b[0;32m----> 4\u001b[0;31m \u001b[0max\u001b[0m\u001b[0;34m.\u001b[0m\u001b[0mplot\u001b[0m\u001b[0;34m(\u001b[0m\u001b[0mx\u001b[0m\u001b[0;34m,\u001b[0m\u001b[0my\u001b[0m\u001b[0;34m,\u001b[0m\u001b[0;34m'.'\u001b[0m\u001b[0;34m)\u001b[0m\u001b[0;34m\u001b[0m\u001b[0m\n\u001b[0m\u001b[1;32m      5\u001b[0m \u001b[0max\u001b[0m\u001b[0;34m.\u001b[0m\u001b[0mplot\u001b[0m\u001b[0;34m(\u001b[0m\u001b[0mx\u001b[0m\u001b[0;34m,\u001b[0m\u001b[0my_pred\u001b[0m\u001b[0;34m,\u001b[0m \u001b[0;34m'-'\u001b[0m\u001b[0;34m)\u001b[0m\u001b[0;34m\u001b[0m\u001b[0m\n",
      "\u001b[0;32m~/Work/Stanford-ML/py37SML/lib/python3.7/site-packages/matplotlib/__init__.py\u001b[0m in \u001b[0;36minner\u001b[0;34m(ax, *args, **kwargs)\u001b[0m\n\u001b[1;32m   1865\u001b[0m                         \u001b[0;34m\"the Matplotlib list!)\"\u001b[0m \u001b[0;34m%\u001b[0m \u001b[0;34m(\u001b[0m\u001b[0mlabel_namer\u001b[0m\u001b[0;34m,\u001b[0m \u001b[0mfunc\u001b[0m\u001b[0;34m.\u001b[0m\u001b[0m__name__\u001b[0m\u001b[0;34m)\u001b[0m\u001b[0;34m,\u001b[0m\u001b[0;34m\u001b[0m\u001b[0m\n\u001b[1;32m   1866\u001b[0m                         RuntimeWarning, stacklevel=2)\n\u001b[0;32m-> 1867\u001b[0;31m             \u001b[0;32mreturn\u001b[0m \u001b[0mfunc\u001b[0m\u001b[0;34m(\u001b[0m\u001b[0max\u001b[0m\u001b[0;34m,\u001b[0m \u001b[0;34m*\u001b[0m\u001b[0margs\u001b[0m\u001b[0;34m,\u001b[0m \u001b[0;34m**\u001b[0m\u001b[0mkwargs\u001b[0m\u001b[0;34m)\u001b[0m\u001b[0;34m\u001b[0m\u001b[0m\n\u001b[0m\u001b[1;32m   1868\u001b[0m \u001b[0;34m\u001b[0m\u001b[0m\n\u001b[1;32m   1869\u001b[0m         inner.__doc__ = _add_data_doc(inner.__doc__,\n",
      "\u001b[0;32m~/Work/Stanford-ML/py37SML/lib/python3.7/site-packages/matplotlib/axes/_axes.py\u001b[0m in \u001b[0;36mplot\u001b[0;34m(self, *args, **kwargs)\u001b[0m\n\u001b[1;32m   1526\u001b[0m         \u001b[0mkwargs\u001b[0m \u001b[0;34m=\u001b[0m \u001b[0mcbook\u001b[0m\u001b[0;34m.\u001b[0m\u001b[0mnormalize_kwargs\u001b[0m\u001b[0;34m(\u001b[0m\u001b[0mkwargs\u001b[0m\u001b[0;34m,\u001b[0m \u001b[0m_alias_map\u001b[0m\u001b[0;34m)\u001b[0m\u001b[0;34m\u001b[0m\u001b[0m\n\u001b[1;32m   1527\u001b[0m \u001b[0;34m\u001b[0m\u001b[0m\n\u001b[0;32m-> 1528\u001b[0;31m         \u001b[0;32mfor\u001b[0m \u001b[0mline\u001b[0m \u001b[0;32min\u001b[0m \u001b[0mself\u001b[0m\u001b[0;34m.\u001b[0m\u001b[0m_get_lines\u001b[0m\u001b[0;34m(\u001b[0m\u001b[0;34m*\u001b[0m\u001b[0margs\u001b[0m\u001b[0;34m,\u001b[0m \u001b[0;34m**\u001b[0m\u001b[0mkwargs\u001b[0m\u001b[0;34m)\u001b[0m\u001b[0;34m:\u001b[0m\u001b[0;34m\u001b[0m\u001b[0m\n\u001b[0m\u001b[1;32m   1529\u001b[0m             \u001b[0mself\u001b[0m\u001b[0;34m.\u001b[0m\u001b[0madd_line\u001b[0m\u001b[0;34m(\u001b[0m\u001b[0mline\u001b[0m\u001b[0;34m)\u001b[0m\u001b[0;34m\u001b[0m\u001b[0m\n\u001b[1;32m   1530\u001b[0m             \u001b[0mlines\u001b[0m\u001b[0;34m.\u001b[0m\u001b[0mappend\u001b[0m\u001b[0;34m(\u001b[0m\u001b[0mline\u001b[0m\u001b[0;34m)\u001b[0m\u001b[0;34m\u001b[0m\u001b[0m\n",
      "\u001b[0;32m~/Work/Stanford-ML/py37SML/lib/python3.7/site-packages/matplotlib/axes/_base.py\u001b[0m in \u001b[0;36m_grab_next_args\u001b[0;34m(self, *args, **kwargs)\u001b[0m\n\u001b[1;32m    404\u001b[0m                 \u001b[0mthis\u001b[0m \u001b[0;34m+=\u001b[0m \u001b[0margs\u001b[0m\u001b[0;34m[\u001b[0m\u001b[0;36m0\u001b[0m\u001b[0;34m]\u001b[0m\u001b[0;34m,\u001b[0m\u001b[0;34m\u001b[0m\u001b[0m\n\u001b[1;32m    405\u001b[0m                 \u001b[0margs\u001b[0m \u001b[0;34m=\u001b[0m \u001b[0margs\u001b[0m\u001b[0;34m[\u001b[0m\u001b[0;36m1\u001b[0m\u001b[0;34m:\u001b[0m\u001b[0;34m]\u001b[0m\u001b[0;34m\u001b[0m\u001b[0m\n\u001b[0;32m--> 406\u001b[0;31m             \u001b[0;32mfor\u001b[0m \u001b[0mseg\u001b[0m \u001b[0;32min\u001b[0m \u001b[0mself\u001b[0m\u001b[0;34m.\u001b[0m\u001b[0m_plot_args\u001b[0m\u001b[0;34m(\u001b[0m\u001b[0mthis\u001b[0m\u001b[0;34m,\u001b[0m \u001b[0mkwargs\u001b[0m\u001b[0;34m)\u001b[0m\u001b[0;34m:\u001b[0m\u001b[0;34m\u001b[0m\u001b[0m\n\u001b[0m\u001b[1;32m    407\u001b[0m                 \u001b[0;32myield\u001b[0m \u001b[0mseg\u001b[0m\u001b[0;34m\u001b[0m\u001b[0m\n\u001b[1;32m    408\u001b[0m \u001b[0;34m\u001b[0m\u001b[0m\n",
      "\u001b[0;32m~/Work/Stanford-ML/py37SML/lib/python3.7/site-packages/matplotlib/axes/_base.py\u001b[0m in \u001b[0;36m_plot_args\u001b[0;34m(self, tup, kwargs)\u001b[0m\n\u001b[1;32m    381\u001b[0m             \u001b[0mx\u001b[0m\u001b[0;34m,\u001b[0m \u001b[0my\u001b[0m \u001b[0;34m=\u001b[0m \u001b[0mindex_of\u001b[0m\u001b[0;34m(\u001b[0m\u001b[0mtup\u001b[0m\u001b[0;34m[\u001b[0m\u001b[0;34m-\u001b[0m\u001b[0;36m1\u001b[0m\u001b[0;34m]\u001b[0m\u001b[0;34m)\u001b[0m\u001b[0;34m\u001b[0m\u001b[0m\n\u001b[1;32m    382\u001b[0m \u001b[0;34m\u001b[0m\u001b[0m\n\u001b[0;32m--> 383\u001b[0;31m         \u001b[0mx\u001b[0m\u001b[0;34m,\u001b[0m \u001b[0my\u001b[0m \u001b[0;34m=\u001b[0m \u001b[0mself\u001b[0m\u001b[0;34m.\u001b[0m\u001b[0m_xy_from_xy\u001b[0m\u001b[0;34m(\u001b[0m\u001b[0mx\u001b[0m\u001b[0;34m,\u001b[0m \u001b[0my\u001b[0m\u001b[0;34m)\u001b[0m\u001b[0;34m\u001b[0m\u001b[0m\n\u001b[0m\u001b[1;32m    384\u001b[0m \u001b[0;34m\u001b[0m\u001b[0m\n\u001b[1;32m    385\u001b[0m         \u001b[0;32mif\u001b[0m \u001b[0mself\u001b[0m\u001b[0;34m.\u001b[0m\u001b[0mcommand\u001b[0m \u001b[0;34m==\u001b[0m \u001b[0;34m'plot'\u001b[0m\u001b[0;34m:\u001b[0m\u001b[0;34m\u001b[0m\u001b[0m\n",
      "\u001b[0;32m~/Work/Stanford-ML/py37SML/lib/python3.7/site-packages/matplotlib/axes/_base.py\u001b[0m in \u001b[0;36m_xy_from_xy\u001b[0;34m(self, x, y)\u001b[0m\n\u001b[1;32m    240\u001b[0m         \u001b[0;32mif\u001b[0m \u001b[0mx\u001b[0m\u001b[0;34m.\u001b[0m\u001b[0mshape\u001b[0m\u001b[0;34m[\u001b[0m\u001b[0;36m0\u001b[0m\u001b[0;34m]\u001b[0m \u001b[0;34m!=\u001b[0m \u001b[0my\u001b[0m\u001b[0;34m.\u001b[0m\u001b[0mshape\u001b[0m\u001b[0;34m[\u001b[0m\u001b[0;36m0\u001b[0m\u001b[0;34m]\u001b[0m\u001b[0;34m:\u001b[0m\u001b[0;34m\u001b[0m\u001b[0m\n\u001b[1;32m    241\u001b[0m             raise ValueError(\"x and y must have same first dimension, but \"\n\u001b[0;32m--> 242\u001b[0;31m                              \"have shapes {} and {}\".format(x.shape, y.shape))\n\u001b[0m\u001b[1;32m    243\u001b[0m         \u001b[0;32mif\u001b[0m \u001b[0mx\u001b[0m\u001b[0;34m.\u001b[0m\u001b[0mndim\u001b[0m \u001b[0;34m>\u001b[0m \u001b[0;36m2\u001b[0m \u001b[0;32mor\u001b[0m \u001b[0my\u001b[0m\u001b[0;34m.\u001b[0m\u001b[0mndim\u001b[0m \u001b[0;34m>\u001b[0m \u001b[0;36m2\u001b[0m\u001b[0;34m:\u001b[0m\u001b[0;34m\u001b[0m\u001b[0m\n\u001b[1;32m    244\u001b[0m             raise ValueError(\"x and y can be no greater than 2-D, but have \"\n",
      "\u001b[0;31mValueError\u001b[0m: x and y must have same first dimension, but have shapes (20,) and (47,)"
     ]
    },
    {
     "data": {
      "image/png": "[encoded data removed]",
      "text/plain": [
       "<Figure size 432x288 with 1 Axes>"
      ]
     },
     "metadata": {},
     "output_type": "display_data"
    }
   ],
   "source": [
    "y_hat = lambda x: w0*x+w1*x\n",
    "y_pred = y_hat(x)\n",
    "fig, ax = plt.subplots(nrows=1, ncols=1)\n",
    "ax.plot(x,y,'.')\n",
    "ax.plot(x,y_pred, '-')"
   ]
  },
  {
   "cell_type": "code",
   "execution_count": 11,
   "metadata": {},
   "outputs": [],
   "source": [
    "import csv\n",
    "filename = \"ex1/ex1data2.txt\"\n",
    "data = []\n",
    "with open (filename, 'r') as file:\n",
    "    \n",
    "    for row in csv.reader(file):\n",
    "        data.append(row)\n",
    "data = np.array(data)"
   ]
  },
  {
   "cell_type": "code",
   "execution_count": 41,
   "metadata": {},
   "outputs": [],
   "source": [
    "X = np.ones([len(data), np.shape(data)[1]])\n",
    "X[:,1:] = data[:,:-1]\n",
    "y = (data[:,-1]).astype(float)\n",
    "yM = np.asmatrix(y)\n",
    "# Solve weights with normal equation:\n",
    "X = np.asmatrix(X)\n",
    "t1 = np.linalg.inv(np.dot(X.T,X))\n",
    "t2= np.dot(X.T,yM.T)\n",
    "weights = np.dot(t1,t2)"
   ]
  },
  {
   "cell_type": "code",
   "execution_count": 57,
   "metadata": {},
   "outputs": [
    {
     "name": "stdout",
     "output_type": "stream",
     "text": [
      "[399900. 329900. 369000. 232000. 539900. 299900. 314900. 198999. 212000.\n",
      " 242500. 239999. 347000. 329999. 699900. 259900. 449900. 299900. 199900.\n",
      " 499998. 599000. 252900. 255000. 242900. 259900. 573900. 249900. 464500.\n",
      " 469000. 475000. 299900. 349900. 169900. 314900. 579900. 285900. 249900.\n",
      " 229900. 345000. 549000. 287000. 368500. 329900. 314000. 299000. 179900.\n",
      " 299900. 239500.]\n",
      "[356283.1103389  286120.93063402 397489.46984812 269244.1857271\n",
      " 472277.85514636 330979.02101847 276933.02614885 262037.48402897\n",
      " 255494.58235014 271364.59918815 324714.54068768 341805.20024107\n",
      " 326492.02609913 669293.21223209 239902.98686016 374830.38333403\n",
      " 255879.96102141 235448.2452916  417846.48160547 476593.38604091\n",
      " 309369.11319496 334951.62386342 286677.77333009 327777.17551607\n",
      " 604913.37413438 216515.5936252  266353.01492351 415030.01477434\n",
      " 369647.33504459 430482.39959029 328130.30083656 220070.5644481\n",
      " 338635.60808944 500087.73659911 306756.36373941 263429.59076914\n",
      " 235865.87731365 351442.99009907 641418.82407778 355619.31031959\n",
      " 303768.43288347 374937.34065726 411999.63329673 230436.66102697\n",
      " 190729.36558116 312464.00137413 230854.29304902]\n"
     ]
    }
   ],
   "source": [
    "print(y)\n",
    "print(y_pred.ravel())"
   ]
  },
  {
   "cell_type": "code",
   "execution_count": 55,
   "metadata": {},
   "outputs": [
    {
     "name": "stdout",
     "output_type": "stream",
     "text": [
      "2043280050.6028287\n"
     ]
    }
   ],
   "source": [
    "from sklearn.metrics import f1_score\n",
    "y_pred = np.array(np.dot(X,weights))\n",
    "m = len(y)\n",
    "diff = np.sum(np.power(y_pred.ravel()-y,2))/(2*m)\n",
    "print(diff)"
   ]
  }
 ],
 "metadata": {
  "kernelspec": {
   "display_name": "Python 3",
   "language": "python",
   "name": "python3"
  },
  "language_info": {
   "codemirror_mode": {
    "name": "ipython",
    "version": 3
   },
   "file_extension": ".py",
   "mimetype": "text/x-python",
   "name": "python",
   "nbconvert_exporter": "python",
   "pygments_lexer": "ipython3",
   "version": "3.7.0"
  }
 },
 "nbformat": 4,
 "nbformat_minor": 2
}
