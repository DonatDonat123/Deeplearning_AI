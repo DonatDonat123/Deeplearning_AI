{
 "cells": [
  {
   "cell_type": "markdown",
   "metadata": {},
   "source": [
    "# STANFORD ML COURSE\n",
    "\n",
    "## Lecture 1 Linear Regression\n",
    "\n",
    "### Univariate Regression\n",
    "\n",
    "Cost Function $J(\\theta_0, \\theta_1)$ tries to minimize the distance between true and predicted samples. <br>\n",
    "e.g: $J(\\theta_0, \\theta_1) = \\frac{1}{2m}\\sum_{i=1}^{m} (\\hat{y}_i - y_i)^2 =\n",
    "\\frac{1}{2m}\\sum_{i=1}^{m} (h_{\\theta} x_i - y_i)^2$ <br>\n",
    "\n",
    "**Gradient Descent** <br>\n",
    "Upadate: $\\theta_j = \\theta_j - \\alpha \\frac{\\partial J}{\\partial \\theta_j} J(\\theta_0, \\theta_1)$\n",
    "\n",
    "$\\frac{\\partial J}{\\partial \\theta_1} = \\frac{1}{2m}\\sum_{i=1}^{m} \\frac{\\partial}{\\partial \\theta_1} (h_{\\theta} x_i - y_i)^2 = \\frac{1}{m} \\sum_{i=1}^{m} (h_{\\theta} x_i - y_i)x_i$\n",
    "\n",
    "**Normal Equation** <br>\n",
    "This can also be solved, by setting the derivative equal to zero and solving for $\\theta$. The result is the socalled normal equation:\n",
    "\n",
    "$\\theta_{ML} = (X^TX)^{-1}X^Ty $\n",
    "\n",
    "**Computational Complexity** <br>\n",
    "Gradient Descent: $O(kn^2)$ <br>\n",
    "Normal Equation: $O(n^3)$\n",
    "\n",
    "### Multivariate\n",
    "\n",
    "The cost function can also be written in vectorized form (dot product instead of sum size):\n"
   ]
  },
  {
   "cell_type": "markdown",
   "metadata": {},
   "source": [
    "$J(\\theta) = \\frac{1}{2m}(X\\theta-\\vec{y})^T (X\\theta-\\vec{y})$"
   ]
  },
  {
   "cell_type": "code",
   "execution_count": null,
   "metadata": {},
   "outputs": [],
   "source": []
  },
  {
   "cell_type": "code",
   "execution_count": 1,
   "metadata": {},
   "outputs": [],
   "source": [
    "import numpy as np\n",
    "import matplotlib.pyplot as plt"
   ]
  },
  {
   "cell_type": "code",
   "execution_count": 2,
   "metadata": {},
   "outputs": [],
   "source": [
    "# Let's create fake data:\n",
    "f = lambda x: 2*x -2 \n",
    "x = np.arange(-5,5, 0.5)\n",
    "y = f(x) + 4*np.random.rand(len(x))"
   ]
  },
  {
   "cell_type": "code",
   "execution_count": 3,
   "metadata": {},
   "outputs": [
    {
     "data": {
      "text/plain": [
       "[<matplotlib.lines.Line2D at 0x10c127198>]"
      ]
     },
     "execution_count": 3,
     "metadata": {},
     "output_type": "execute_result"
    },
    {
     "data": {
      "image/png": "[encoded data removed]",
      "text/plain": [
       "<Figure size 432x288 with 1 Axes>"
      ]
     },
     "metadata": {},
     "output_type": "display_data"
    }
   ],
   "source": [
    "fig, ax = plt.subplots(nrows=1, ncols=1)\n",
    "ax.plot(x,y,'.')"
   ]
  },
  {
   "cell_type": "code",
   "execution_count": 4,
   "metadata": {},
   "outputs": [],
   "source": [
    "xx = [np.ones(len(x)),x]"
   ]
  },
  {
   "cell_type": "code",
   "execution_count": 52,
   "metadata": {},
   "outputs": [],
   "source": [
    "def cost_function(w0, w1, xx, y):\n",
    "    m = len(y)\n",
    "    w = np.matrix([w0,w1])\n",
    "    x = np.matrix(xx)\n",
    "    y_hat = np.dot(w,x)\n",
    "    diff = np.sum(np.power(y_hat-y,2))/(2*m)\n",
    "    return diff\n",
    "\n",
    "def updater(w0, w1, xx, y, alpha):\n",
    "    m = len(y)\n",
    "    w = np.matrix([w0,w1])\n",
    "    x = np.matrix(xx)\n",
    "    y_hat = np.dot(w,x)\n",
    "    update0 = np.sum(y_hat-y)/m\n",
    "    update1 = np.sum(x[:,1]*(y_hat-y))/m\n",
    "    #print(\"up0: {}; up1: {}\".format(update0,update1))\n",
    "    w0_new = w0 - alpha*update0\n",
    "    w1_new = w1 - alpha*update1\n",
    "    return w0_new, w1_new"
   ]
  },
  {
   "cell_type": "code",
   "execution_count": 59,
   "metadata": {},
   "outputs": [
    {
     "name": "stdout",
     "output_type": "stream",
     "text": [
      "13.798491658805526\n",
      "cost: 13.449889778452624, w1: 0.49329707955669894, w1:0.22346022155155368\n",
      "cost: 2.7355556394553133, w1: 0.19535658326533836, w1:1.2662519585713161\n",
      "cost: 1.9319394664110057, w1: 0.15047207080660568, w1:1.4233477521768807\n",
      "cost: 1.8292695275318835, w1: 0.14371025264581427, w1:1.4470141157396497\n",
      "cost: 1.8142198389785478, w1: 0.1426915898079001, w1:1.4505794356723498\n",
      "cost: 1.8119620890324615, w1: 0.14253812901486, w1:1.4511165484479895\n",
      "cost: 1.8116221757176205, w1: 0.14251501026140795, w1:1.451197464085071\n",
      "cost: 1.8115709729114808, w1: 0.14251152743852794, w1:1.4512096539651507\n",
      "cost: 1.8115632593578646, w1: 0.1425110027538713, w1:1.4512114903614484\n",
      "cost: 1.8115620973193063, w1: 0.14251092371052107, w1:1.4512117670131743\n"
     ]
    }
   ],
   "source": [
    "w0 = 0.5\n",
    "w1 = 0.2\n",
    "print (cost_function(w0,w1, xx, y))\n",
    "for i in range(1000):\n",
    "    w0, w1 = updater(w0,w1, xx, y, 0.01)\n",
    "    if i%100 == 0:\n",
    "        print (\"cost: {}, w1: {}, w1:{}\".format(cost_function(w0,w1, xx, y), w0, w1))\n",
    "diff = cost_function(w0,w1, xx, y)"
   ]
  },
  {
   "cell_type": "code",
   "execution_count": 60,
   "metadata": {},
   "outputs": [
    {
     "data": {
      "text/plain": [
       "[<matplotlib.lines.Line2D at 0x10c44a5c0>]"
      ]
     },
     "execution_count": 60,
     "metadata": {},
     "output_type": "execute_result"
    },
    {
     "data": {
      "image/png": "[encoded data removed]",
      "text/plain": [
       "<Figure size 432x288 with 1 Axes>"
      ]
     },
     "metadata": {},
     "output_type": "display_data"
    }
   ],
   "source": [
    "y_hat = lambda x: w0*x+w1*x\n",
    "y_pred = y_hat(x)\n",
    "fig, ax = plt.subplots(nrows=1, ncols=1)\n",
    "ax.plot(x,y,'.')\n",
    "ax.plot(x,y_pred, '-')"
   ]
  },
  {
   "cell_type": "code",
   "execution_count": 1,
   "metadata": {},
   "outputs": [],
   "source": [
    "import csv\n",
    "filename = \"/ex1/ex1data2.txt\"\n",
    "data = []\n",
    "with open (filename, 'r'):\n",
    "    df = csv.reader()"
   ]
  }
 ],
 "metadata": {
  "kernelspec": {
   "display_name": "Python 3",
   "language": "python",
   "name": "python3"
  },
  "language_info": {
   "codemirror_mode": {
    "name": "ipython",
    "version": 3
   },
   "file_extension": ".py",
   "mimetype": "text/x-python",
   "name": "python",
   "nbconvert_exporter": "python",
   "pygments_lexer": "ipython3",
   "version": "3.7.0"
  }
 },
 "nbformat": 4,
 "nbformat_minor": 2
}
