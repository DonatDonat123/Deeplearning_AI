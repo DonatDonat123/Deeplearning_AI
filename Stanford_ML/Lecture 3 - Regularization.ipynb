{
 "cells": [
  {
   "cell_type": "markdown",
   "metadata": {},
   "source": [
    "# Regularization\n",
    "\n",
    "## Linear Regression\n",
    "\n",
    "Penalize large weight values by adding term to the cost function: <br><br>\n",
    "$J(\\theta) =\\frac{1}{2m}\\sum_{i=1}^{m} (y_i-h_{\\theta} x_i)^2 + \\lambda \\sum_{j=1}^{n} \\theta_j^2$ <br><br>\n",
    "\n",
    "With the update function $\\theta_j = \\theta_j - \\alpha \\frac{\\partial J}{\\partial \\theta_j} J(\\theta_0, \\theta_1)$, \n",
    "we get with regularization: <br>\n",
    "$\\theta_j = \\theta_j - \\alpha \\left[\\frac{1}{m} \\sum_{i=1}^{m} \\{y_i-h_{\\theta} x_i )x_i\\} + \\frac{\\lambda}{m}\\theta_j \\right]$ <br><br>\n",
    "We can refactor this as: <br>\n",
    "$\\theta_j = \\theta_j(1-\\alpha\\frac{\\lambda}{m}) - \\alpha\\frac{1}{m}\\sum_{i=1}^{m} \\{y_i-h_{\\theta} x_i )x_i\\}$, <br><br>\n",
    "where the equation is more clearly splitted into regularization term and the original term.<br>\n",
    "For the solution of the **normal equation**, we simply add the term $\\lambda L$, like so:<br>\n",
    "$\\theta = (X^TX + \\lambda L)^{-1}X^Ty$, <br><br>\n",
    "where L is the unity matrix with a 0 in the upper left corner to account for $\\theta_0$\n",
    "\n",
    "## Logistic Regression\n",
    "\n",
    "Just like with linear Regression, we add a regularization term to the cost function\n",
    "\n",
    "$J(\\theta) = \\frac{1}{m}\\sum_{i=1}^{m}\\{- y\\,log(h_{\\theta} x_i) - (1-y)log(1-h_{\\theta} x_i)\\} + \\frac{1}{2m}\\sum_{j=1}^n \\theta_j^2$. <br><br>\n",
    "Note that the sum runs from j=1, so it excludes $\\theta_0$."
   ]
  }
 ],
 "metadata": {
  "kernelspec": {
   "display_name": "Python 3",
   "language": "python",
   "name": "python3"
  },
  "language_info": {
   "codemirror_mode": {
    "name": "ipython",
    "version": 3
   },
   "file_extension": ".py",
   "mimetype": "text/x-python",
   "name": "python",
   "nbconvert_exporter": "python",
   "pygments_lexer": "ipython3",
   "version": "3.7.0"
  }
 },
 "nbformat": 4,
 "nbformat_minor": 2
}
